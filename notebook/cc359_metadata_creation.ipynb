{
 "cells": [
  {
   "cell_type": "code",
   "execution_count": null,
   "metadata": {},
   "outputs": [],
   "source": [
    "import os\n",
    "from os.path import join as jp\n",
    "from itertools import product\n",
    "\n",
    "import pandas as pd\n",
    "import numpy as np\n",
    "import nibabel as nib\n",
    "from tqdm import tqdm_notebook as tqdm\n",
    "\n",
    "from dpipe.io import load\n",
    "from dpipe.im.visualize import slice3d"
   ]
  },
  {
   "cell_type": "code",
   "execution_count": null,
   "metadata": {},
   "outputs": [],
   "source": [
    "img = 'images'\n",
    "msk = 'masks'\n",
    "root = '/nmnt/x3-hdd/data/boris_temp'\n",
    "\n",
    "path_img = jp(root, img)\n",
    "path_msk = jp(root, msk)\n",
    "\n",
    "fnames = os.listdir(path_img)\n",
    "\n",
    "cites = ('siemens', 'ge', 'philips')\n",
    "tsls = ('15', '3')"
   ]
  },
  {
   "cell_type": "code",
   "execution_count": null,
   "metadata": {},
   "outputs": [],
   "source": [
    "pairs2fold = {p[1]: p[0] for p in list(enumerate(list(product(cites, tsls))))}"
   ]
  },
  {
   "cell_type": "code",
   "execution_count": null,
   "metadata": {},
   "outputs": [],
   "source": [
    "def fname2info(fname):\n",
    "    f = fname.strip('.nii.gz')\n",
    "    mask_fname = f + '_ss.nii.gz'\n",
    "    _id, cite, tsl, *_ = f.split('_')\n",
    "    return _id, cite, tsl, mask_fname"
   ]
  },
  {
   "cell_type": "code",
   "execution_count": null,
   "metadata": {},
   "outputs": [],
   "source": [
    "records = []\n",
    "for fname in tqdm(fnames):\n",
    "    _id, cite, tsl, mask_fname = fname2info(fname)\n",
    "    record = {\n",
    "        'id': _id,\n",
    "        'MRI': jp(img, fname),\n",
    "        'brain_mask': jp(msk, mask_fname),\n",
    "        'fold': pairs2fold[(cite, tsl)],\n",
    "        'tomograph_model': cite,\n",
    "        'tesla_value': tsl,\n",
    "    }\n",
    "    records.append(record)\n",
    "    \n",
    "meta = pd.DataFrame.from_records(records, index='id')\n",
    "meta.to_csv(jp(root, 'meta.csv'), index_label='id')"
   ]
  },
  {
   "cell_type": "code",
   "execution_count": null,
   "metadata": {},
   "outputs": [],
   "source": []
  },
  {
   "cell_type": "code",
   "execution_count": null,
   "metadata": {},
   "outputs": [],
   "source": []
  }
 ],
 "metadata": {
  "kernelspec": {
   "display_name": "Python 3",
   "language": "python",
   "name": "python3"
  },
  "language_info": {
   "codemirror_mode": {
    "name": "ipython",
    "version": 3
   },
   "file_extension": ".py",
   "mimetype": "text/x-python",
   "name": "python",
   "nbconvert_exporter": "python",
   "pygments_lexer": "ipython3",
   "version": "3.7.6"
  }
 },
 "nbformat": 4,
 "nbformat_minor": 1
}
