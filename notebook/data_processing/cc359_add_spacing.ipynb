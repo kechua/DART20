{
 "cells": [
  {
   "cell_type": "code",
   "execution_count": 1,
   "metadata": {},
   "outputs": [],
   "source": [
    "import os\n",
    "from os.path import join as jp\n",
    "\n",
    "import numpy as np\n",
    "import pandas as pd\n",
    "import nibabel as nib\n",
    "from tqdm import tqdm_notebook as tqdm\n",
    "import matplotlib.pyplot as plt\n",
    "%matplotlib inline\n",
    "\n",
    "from damri.dataset.cc359 import CC359, Rescale3D\n",
    "\n",
    "from dpipe.dataset.wrappers import Proxy\n",
    "from dpipe.im.shape_ops import zoom"
   ]
  },
  {
   "cell_type": "code",
   "execution_count": 3,
   "metadata": {},
   "outputs": [
    {
     "data": {
      "text/html": [
       "<div>\n",
       "<style scoped>\n",
       "    .dataframe tbody tr th:only-of-type {\n",
       "        vertical-align: middle;\n",
       "    }\n",
       "\n",
       "    .dataframe tbody tr th {\n",
       "        vertical-align: top;\n",
       "    }\n",
       "\n",
       "    .dataframe thead th {\n",
       "        text-align: right;\n",
       "    }\n",
       "</style>\n",
       "<table border=\"1\" class=\"dataframe\">\n",
       "  <thead>\n",
       "    <tr style=\"text-align: right;\">\n",
       "      <th></th>\n",
       "      <th>MRI</th>\n",
       "      <th>brain_mask</th>\n",
       "      <th>fold</th>\n",
       "      <th>tomograph_model</th>\n",
       "      <th>tesla_value</th>\n",
       "      <th>x</th>\n",
       "      <th>y</th>\n",
       "      <th>z</th>\n",
       "    </tr>\n",
       "    <tr>\n",
       "      <th>id</th>\n",
       "      <th></th>\n",
       "      <th></th>\n",
       "      <th></th>\n",
       "      <th></th>\n",
       "      <th></th>\n",
       "      <th></th>\n",
       "      <th></th>\n",
       "      <th></th>\n",
       "    </tr>\n",
       "  </thead>\n",
       "  <tbody>\n",
       "    <tr>\n",
       "      <th>CC0001</th>\n",
       "      <td>images/CC0001_philips_15_55_M.nii.gz</td>\n",
       "      <td>masks/CC0001_philips_15_55_M_ss.nii.gz</td>\n",
       "      <td>4</td>\n",
       "      <td>philips</td>\n",
       "      <td>15</td>\n",
       "      <td>0.999998</td>\n",
       "      <td>1.000000</td>\n",
       "      <td>1.000000</td>\n",
       "    </tr>\n",
       "    <tr>\n",
       "      <th>CC0002</th>\n",
       "      <td>images/CC0002_philips_15_56_M.nii.gz</td>\n",
       "      <td>masks/CC0002_philips_15_56_M_ss.nii.gz</td>\n",
       "      <td>4</td>\n",
       "      <td>philips</td>\n",
       "      <td>15</td>\n",
       "      <td>1.000000</td>\n",
       "      <td>0.888889</td>\n",
       "      <td>0.888889</td>\n",
       "    </tr>\n",
       "    <tr>\n",
       "      <th>CC0003</th>\n",
       "      <td>images/CC0003_philips_15_63_F.nii.gz</td>\n",
       "      <td>masks/CC0003_philips_15_63_F_ss.nii.gz</td>\n",
       "      <td>4</td>\n",
       "      <td>philips</td>\n",
       "      <td>15</td>\n",
       "      <td>1.000005</td>\n",
       "      <td>0.888889</td>\n",
       "      <td>0.888889</td>\n",
       "    </tr>\n",
       "    <tr>\n",
       "      <th>CC0004</th>\n",
       "      <td>images/CC0004_philips_15_67_M.nii.gz</td>\n",
       "      <td>masks/CC0004_philips_15_67_M_ss.nii.gz</td>\n",
       "      <td>4</td>\n",
       "      <td>philips</td>\n",
       "      <td>15</td>\n",
       "      <td>1.000010</td>\n",
       "      <td>0.888889</td>\n",
       "      <td>0.888889</td>\n",
       "    </tr>\n",
       "    <tr>\n",
       "      <th>CC0005</th>\n",
       "      <td>images/CC0005_philips_15_62_M.nii.gz</td>\n",
       "      <td>masks/CC0005_philips_15_62_M_ss.nii.gz</td>\n",
       "      <td>4</td>\n",
       "      <td>philips</td>\n",
       "      <td>15</td>\n",
       "      <td>1.000010</td>\n",
       "      <td>0.888889</td>\n",
       "      <td>0.888889</td>\n",
       "    </tr>\n",
       "  </tbody>\n",
       "</table>\n",
       "</div>"
      ],
      "text/plain": [
       "                                         MRI  \\\n",
       "id                                             \n",
       "CC0001  images/CC0001_philips_15_55_M.nii.gz   \n",
       "CC0002  images/CC0002_philips_15_56_M.nii.gz   \n",
       "CC0003  images/CC0003_philips_15_63_F.nii.gz   \n",
       "CC0004  images/CC0004_philips_15_67_M.nii.gz   \n",
       "CC0005  images/CC0005_philips_15_62_M.nii.gz   \n",
       "\n",
       "                                    brain_mask  fold tomograph_model  \\\n",
       "id                                                                     \n",
       "CC0001  masks/CC0001_philips_15_55_M_ss.nii.gz     4         philips   \n",
       "CC0002  masks/CC0002_philips_15_56_M_ss.nii.gz     4         philips   \n",
       "CC0003  masks/CC0003_philips_15_63_F_ss.nii.gz     4         philips   \n",
       "CC0004  masks/CC0004_philips_15_67_M_ss.nii.gz     4         philips   \n",
       "CC0005  masks/CC0005_philips_15_62_M_ss.nii.gz     4         philips   \n",
       "\n",
       "        tesla_value         x         y         z  \n",
       "id                                                 \n",
       "CC0001           15  0.999998  1.000000  1.000000  \n",
       "CC0002           15  1.000000  0.888889  0.888889  \n",
       "CC0003           15  1.000005  0.888889  0.888889  \n",
       "CC0004           15  1.000010  0.888889  0.888889  \n",
       "CC0005           15  1.000010  0.888889  0.888889  "
      ]
     },
     "execution_count": 3,
     "metadata": {},
     "output_type": "execute_result"
    }
   ],
   "source": [
    "data_path = '/nmnt/x3-hdd/data/cc359'\n",
    "dataset = CC359(data_path, ('MRI',))\n",
    "\n",
    "df = dataset.df\n",
    "df.head()"
   ]
  },
  {
   "cell_type": "code",
   "execution_count": 7,
   "metadata": {},
   "outputs": [
    {
     "data": {
      "text/plain": [
       "HBox(children=(IntProgress(value=0, max=359), HTML(value='')))"
      ]
     },
     "metadata": {},
     "output_type": "display_data"
    },
    {
     "name": "stdout",
     "output_type": "stream",
     "text": [
      "\n"
     ]
    }
   ],
   "source": [
    "pixdims = []\n",
    "\n",
    "for _id in tqdm(df.index):\n",
    "    img = nib.load(jp(data_path, df.loc[_id]['MRI']))\n",
    "    pixdims.append(img.header['pixdim'][1:4])"
   ]
  },
  {
   "cell_type": "code",
   "execution_count": 9,
   "metadata": {},
   "outputs": [],
   "source": [
    "pixdims = np.array(pixdims)"
   ]
  },
  {
   "cell_type": "code",
   "execution_count": 13,
   "metadata": {},
   "outputs": [],
   "source": [
    "df['x'] = pixdims.T[0]\n",
    "df['y'] = pixdims.T[1]\n",
    "df['z'] = pixdims.T[2]"
   ]
  },
  {
   "cell_type": "code",
   "execution_count": 14,
   "metadata": {},
   "outputs": [],
   "source": [
    "df.to_csv(jp(data_path, 'meta.csv'), index_label='id')"
   ]
  },
  {
   "cell_type": "code",
   "execution_count": null,
   "metadata": {},
   "outputs": [],
   "source": [
    ""
   ]
  },
  {
   "cell_type": "code",
   "execution_count": 11,
   "metadata": {},
   "outputs": [
    {
     "data": {
      "image/png": "[encoded data removed]",
      "text/plain": [
       "<Figure size 432x288 with 1 Axes>"
      ]
     },
     "metadata": {
      "needs_background": "light"
     },
     "output_type": "display_data"
    }
   ],
   "source": [
    "plt.scatter(pixdims.T[0], pixdims.T[1])\n",
    "plt.show()"
   ]
  },
  {
   "cell_type": "code",
   "execution_count": 12,
   "metadata": {},
   "outputs": [
    {
     "data": {
      "image/png": "[encoded data removed]",
      "text/plain": [
       "<Figure size 432x288 with 1 Axes>"
      ]
     },
     "metadata": {
      "needs_background": "light"
     },
     "output_type": "display_data"
    }
   ],
   "source": [
    "plt.scatter(pixdims.T[1], pixdims.T[2])\n",
    "plt.show()"
   ]
  },
  {
   "cell_type": "code",
   "execution_count": null,
   "metadata": {},
   "outputs": [],
   "source": [
    ""
   ]
  }
 ],
 "metadata": {
  "kernelspec": {
   "display_name": "Python 3",
   "language": "python",
   "name": "python3"
  },
  "language_info": {
   "codemirror_mode": {
    "name": "ipython",
    "version": 3.0
   },
   "file_extension": ".py",
   "mimetype": "text/x-python",
   "name": "python",
   "nbconvert_exporter": "python",
   "pygments_lexer": "ipython3",
   "version": "3.6.8"
  }
 },
 "nbformat": 4,
 "nbformat_minor": 0
}