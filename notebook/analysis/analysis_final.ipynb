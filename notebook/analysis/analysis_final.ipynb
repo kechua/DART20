{
 "cells": [
  {
   "cell_type": "markdown",
   "metadata": {},
   "source": [
    "# Copypasta"
   ]
  },
  {
   "cell_type": "code",
   "execution_count": 1,
   "metadata": {},
   "outputs": [
    {
     "name": "stderr",
     "output_type": "stream",
     "text": [
      "/trinity/home/i.zakazov/miniconda3/lib/python3.7/site-packages/ipykernel_launcher.py:38: TqdmDeprecationWarning: This function will be removed in tqdm==5.0.0\n",
      "Please use `tqdm.notebook.tqdm` instead of `tqdm.tqdm_notebook`\n"
     ]
    },
    {
     "data": {
      "application/vnd.jupyter.widget-view+json": {
       "model_id": "2def7e4ef76f41ef8878fa23d291e767",
       "version_major": 2,
       "version_minor": 0
      },
      "text/plain": [
       "HBox(children=(FloatProgress(value=0.0, max=359.0), HTML(value='')))"
      ]
     },
     "metadata": {},
     "output_type": "display_data"
    },
    {
     "name": "stdout",
     "output_type": "stream",
     "text": [
      "\n"
     ]
    }
   ],
   "source": [
    "import sys\n",
    "sys.path.append('/trinity/home/i.zakazov/domain_adaptation_mri')\n",
    "\n",
    "import os\n",
    "from os.path import join as jp\n",
    "from itertools import product\n",
    "\n",
    "import pandas as pd\n",
    "import numpy as np\n",
    "\n",
    "import nibabel as nib\n",
    "from tqdm import tqdm_notebook as tqdm\n",
    "\n",
    "from dpipe.io import load\n",
    "from dpipe.im.visualize import slice3d\n",
    "from damri.utils import choose_root\n",
    "\n",
    "img = 'images'\n",
    "msk = 'masks'\n",
    "root = '/gpfs/data/gpfs0/b.shirokikh/data/cc359'  \n",
    "path_img = jp(root, img)\n",
    "path_msk = jp(root, msk)\n",
    "\n",
    "fnames = os.listdir(path_img)\n",
    "\n",
    "cites = ('siemens', 'ge', 'philips')\n",
    "tsls = ('15', '3')\n",
    "\n",
    "pairs2fold = {p[1]: p[0] for p in list(enumerate(list(product(cites, tsls))))}\n",
    "\n",
    "def fname2info(fname):\n",
    "    f = fname.strip('.nii.gz')\n",
    "    mask_fname = f + '_ss.nii.gz'\n",
    "    _id, cite, tsl, *_ = f.split('_')\n",
    "    return _id, cite, tsl, mask_fname\n",
    "\n",
    "records = []\n",
    "for fname in tqdm(fnames):\n",
    "    _id, cite, tsl, mask_fname = fname2info(fname)\n",
    "    x, y, z = nib.load(jp(path_img, fname)).header['pixdim'][1:4]\n",
    "    record = {\n",
    "        'id': _id,\n",
    "        'MRI': jp(img, fname),\n",
    "        'brain_mask': jp(msk, mask_fname),\n",
    "        'fold': pairs2fold[(cite, tsl)],\n",
    "        'tomograph_model': cite,\n",
    "        'tesla_value': tsl,\n",
    "        'x': x, 'y': y, 'z': z,\n",
    "    }\n",
    "    records.append(record)\n",
    "    \n",
    "from os.path import join as jp\n",
    "data_path = '/gpfs/data/gpfs0/b.shirokikh/data/cc359'\n",
    "meta = pd.read_csv(jp(data_path, 'meta.csv'), index_col='id')"
   ]
  },
  {
   "cell_type": "code",
   "execution_count": 44,
   "metadata": {},
   "outputs": [
    {
     "data": {
      "text/plain": [
       "['ge15', 'ge3', 'philips15', 'philips3', 'siemens15', 'siemens3']"
      ]
     },
     "execution_count": 44,
     "metadata": {},
     "output_type": "execute_result"
    }
   ],
   "source": [
    "domainOfScan = {}\n",
    "scansOfDomain = {}\n",
    "for record in records:\n",
    "    scanID = record['id']\n",
    "    domain = record['tomograph_model'] + record['tesla_value']\n",
    "    if domain not in scansOfDomain.keys():\n",
    "        scansOfDomain[domain]=[]\n",
    "    scansOfDomain[domain].append(scanID)\n",
    "    domainOfScan[scanID] = domain\n",
    "    \n",
    "domainNames = list(set(domainOfScan.values()))\n",
    "domainNames.sort()\n",
    "domainNames"
   ]
  },
  {
   "cell_type": "markdown",
   "metadata": {},
   "source": [
    "# Baseline with CV3 (18 experiments)"
   ]
  },
  {
   "cell_type": "code",
   "execution_count": 45,
   "metadata": {},
   "outputs": [
    {
     "data": {
      "text/plain": [
       "['siemens15', 'siemens3', 'ge15', 'ge3', 'philips15', 'philips3']"
      ]
     },
     "execution_count": 45,
     "metadata": {},
     "output_type": "execute_result"
    }
   ],
   "source": [
    "import pandas as pd\n",
    "cites = ('siemens', 'ge', 'philips')\n",
    "tsls = ('15', '3')\n",
    "domainNamesNew = [el1+el2 for (el1,el2) in list(product(cites, tsls))] \n",
    "domainNamesNew"
   ]
  },
  {
   "cell_type": "code",
   "execution_count": 46,
   "metadata": {},
   "outputs": [],
   "source": [
    "#copy-pasted from here: \n",
    "# https://stackoverflow.com/questions/41476636/how-to-read-a-json-file-and-return-as-dictionary-in-python\n",
    "import json\n",
    "\n",
    "def js_r(filename):\n",
    "    with open(filename) as f_in:\n",
    "        return(json.load(f_in))"
   ]
  },
  {
   "cell_type": "code",
   "execution_count": 75,
   "metadata": {},
   "outputs": [],
   "source": [
    "import pandas as pd\n",
    "\n",
    "dom2exps = {}\n",
    "for i, name in enumerate(domainNamesNew):\n",
    "    dom2exps[name] = [3*i, 3*i+1, 3*i+2]"
   ]
  },
  {
   "cell_type": "code",
   "execution_count": 78,
   "metadata": {},
   "outputs": [],
   "source": [
    "domainNames = domainNamesNew\n",
    "diag = []\n",
    "def getResults(metric, net, tolerance=1, withErr=True, retDict = False):\n",
    "    \n",
    "    if net=='unet2d':\n",
    "        baseAddr = '/gpfs/gpfs0/i.zakazov/experiments/da/baseline_kfold_crossval_2Dunet/'\n",
    "    elif net=='unet3d':\n",
    "        baseAddr = '/gpfs/gpfs0/i.zakazov/experiments/da/baseline_kfold_crossval_3Dunet/'\n",
    "    \n",
    "    results = {}\n",
    "    results_std = {}\n",
    "        \n",
    "    for n in domainNames:\n",
    "\n",
    "        averageMetric4dom = {}\n",
    "        stdMetric4dom = {}\n",
    "\n",
    "        for name in domainNames:\n",
    "            averageMetric4dom[name] = []\n",
    "            stdMetric4dom[name] = []\n",
    "\n",
    "        for i in dom2exps[n]:\n",
    "            if metric=='dice':\n",
    "                diceAddr = baseAddr + 'experiment_%d/test_metrics/dice_score.json'%i\n",
    "            else:\n",
    "                diceAddr = baseAddr + 'experiment_%d/test_metrics/sdice_score_tol_%d.json'%(i,tolerance)\n",
    "            dices = js_r(diceAddr)\n",
    "            for scan in dices.keys():\n",
    "                domain = domainOfScan[scan]\n",
    "                averageMetric4dom[domain].append(dices[scan])\n",
    "                if n==domain:\n",
    "                    diag.append(dices[scan])\n",
    "\n",
    "        for domain in domainNames:\n",
    "            #print(len(averageMetric4dom[domain]))\n",
    "            stdMetric4dom[domain] = np.array(averageMetric4dom[domain]).std()#.round(2)\n",
    "            averageMetric4dom[domain] = np.array(averageMetric4dom[domain]).mean()#.round(2)\n",
    "\n",
    "        results[n] = averageMetric4dom\n",
    "        results_std[n] = stdMetric4dom \n",
    "\n",
    "    val = pd.DataFrame.from_dict(results)\n",
    "    err = pd.DataFrame.from_dict(results_std)\n",
    "\n",
    "    if withErr:\n",
    "        for n1 in domainNames:\n",
    "            for n2 in domainNames:\n",
    "                val[n1][n2] = str(round(val[n1][n2],2)) + '+-' + str(round(err[n1][n2],2))\n",
    "     \n",
    "    if retDict == False:\n",
    "        if metric=='dice':\n",
    "            return val.rename(index={name: name + '_dice_' + net for name in domainNames})         \n",
    "        else:\n",
    "            return val.rename(index={name: name + '_sDice_' + str(tolerance) + '_' + net for name in domainNames})\n",
    "    else:\n",
    "        return (results, results_std)"
   ]
  },
  {
   "cell_type": "code",
   "execution_count": 77,
   "metadata": {},
   "outputs": [
    {
     "data": {
      "text/html": [
       "<style  type=\"text/css\" >\n",
       "    #T_b8405fe0_c0e2_11ea_8c88_839d2edf9097row0_col0 {\n",
       "            background-color:  #008000;\n",
       "            color:  #f1f1f1;\n",
       "        }    #T_b8405fe0_c0e2_11ea_8c88_839d2edf9097row0_col1 {\n",
       "            background-color:  #69ba69;\n",
       "            color:  #000000;\n",
       "        }    #T_b8405fe0_c0e2_11ea_8c88_839d2edf9097row0_col2 {\n",
       "            background-color:  #acdfac;\n",
       "            color:  #000000;\n",
       "        }    #T_b8405fe0_c0e2_11ea_8c88_839d2edf9097row0_col3 {\n",
       "            background-color:  #7dc57d;\n",
       "            color:  #000000;\n",
       "        }    #T_b8405fe0_c0e2_11ea_8c88_839d2edf9097row0_col4 {\n",
       "            background-color:  #5fb55f;\n",
       "            color:  #000000;\n",
       "        }    #T_b8405fe0_c0e2_11ea_8c88_839d2edf9097row0_col5 {\n",
       "            background-color:  #5db35d;\n",
       "            color:  #000000;\n",
       "        }    #T_b8405fe0_c0e2_11ea_8c88_839d2edf9097row1_col0 {\n",
       "            background-color:  #53ae53;\n",
       "            color:  #000000;\n",
       "        }    #T_b8405fe0_c0e2_11ea_8c88_839d2edf9097row1_col1 {\n",
       "            background-color:  #008000;\n",
       "            color:  #f1f1f1;\n",
       "        }    #T_b8405fe0_c0e2_11ea_8c88_839d2edf9097row1_col2 {\n",
       "            background-color:  #a6dca6;\n",
       "            color:  #000000;\n",
       "        }    #T_b8405fe0_c0e2_11ea_8c88_839d2edf9097row1_col3 {\n",
       "            background-color:  #67b967;\n",
       "            color:  #000000;\n",
       "        }    #T_b8405fe0_c0e2_11ea_8c88_839d2edf9097row1_col4 {\n",
       "            background-color:  #a5dba5;\n",
       "            color:  #000000;\n",
       "        }    #T_b8405fe0_c0e2_11ea_8c88_839d2edf9097row1_col5 {\n",
       "            background-color:  #8bcd8b;\n",
       "            color:  #000000;\n",
       "        }    #T_b8405fe0_c0e2_11ea_8c88_839d2edf9097row2_col0 {\n",
       "            background-color:  #e5ffe5;\n",
       "            color:  #000000;\n",
       "        }    #T_b8405fe0_c0e2_11ea_8c88_839d2edf9097row2_col1 {\n",
       "            background-color:  #e5ffe5;\n",
       "            color:  #000000;\n",
       "        }    #T_b8405fe0_c0e2_11ea_8c88_839d2edf9097row2_col2 {\n",
       "            background-color:  #008000;\n",
       "            color:  #f1f1f1;\n",
       "        }    #T_b8405fe0_c0e2_11ea_8c88_839d2edf9097row2_col3 {\n",
       "            background-color:  #e5ffe5;\n",
       "            color:  #000000;\n",
       "        }    #T_b8405fe0_c0e2_11ea_8c88_839d2edf9097row2_col4 {\n",
       "            background-color:  #a8dda8;\n",
       "            color:  #000000;\n",
       "        }    #T_b8405fe0_c0e2_11ea_8c88_839d2edf9097row2_col5 {\n",
       "            background-color:  #e2fde2;\n",
       "            color:  #000000;\n",
       "        }    #T_b8405fe0_c0e2_11ea_8c88_839d2edf9097row3_col0 {\n",
       "            background-color:  #1e901e;\n",
       "            color:  #000000;\n",
       "        }    #T_b8405fe0_c0e2_11ea_8c88_839d2edf9097row3_col1 {\n",
       "            background-color:  #45a645;\n",
       "            color:  #000000;\n",
       "        }    #T_b8405fe0_c0e2_11ea_8c88_839d2edf9097row3_col2 {\n",
       "            background-color:  #e5ffe5;\n",
       "            color:  #000000;\n",
       "        }    #T_b8405fe0_c0e2_11ea_8c88_839d2edf9097row3_col3 {\n",
       "            background-color:  #008000;\n",
       "            color:  #f1f1f1;\n",
       "        }    #T_b8405fe0_c0e2_11ea_8c88_839d2edf9097row3_col4 {\n",
       "            background-color:  #6ebd6e;\n",
       "            color:  #000000;\n",
       "        }    #T_b8405fe0_c0e2_11ea_8c88_839d2edf9097row3_col5 {\n",
       "            background-color:  #77c277;\n",
       "            color:  #000000;\n",
       "        }    #T_b8405fe0_c0e2_11ea_8c88_839d2edf9097row4_col0 {\n",
       "            background-color:  #65b865;\n",
       "            color:  #000000;\n",
       "        }    #T_b8405fe0_c0e2_11ea_8c88_839d2edf9097row4_col1 {\n",
       "            background-color:  #b1e2b1;\n",
       "            color:  #000000;\n",
       "        }    #T_b8405fe0_c0e2_11ea_8c88_839d2edf9097row4_col2 {\n",
       "            background-color:  #098509;\n",
       "            color:  #f1f1f1;\n",
       "        }    #T_b8405fe0_c0e2_11ea_8c88_839d2edf9097row4_col3 {\n",
       "            background-color:  #aee0ae;\n",
       "            color:  #000000;\n",
       "        }    #T_b8405fe0_c0e2_11ea_8c88_839d2edf9097row4_col4 {\n",
       "            background-color:  #008000;\n",
       "            color:  #f1f1f1;\n",
       "        }    #T_b8405fe0_c0e2_11ea_8c88_839d2edf9097row4_col5 {\n",
       "            background-color:  #e5ffe5;\n",
       "            color:  #000000;\n",
       "        }    #T_b8405fe0_c0e2_11ea_8c88_839d2edf9097row5_col0 {\n",
       "            background-color:  #abdfab;\n",
       "            color:  #000000;\n",
       "        }    #T_b8405fe0_c0e2_11ea_8c88_839d2edf9097row5_col1 {\n",
       "            background-color:  #9cd69c;\n",
       "            color:  #000000;\n",
       "        }    #T_b8405fe0_c0e2_11ea_8c88_839d2edf9097row5_col2 {\n",
       "            background-color:  #b8e6b8;\n",
       "            color:  #000000;\n",
       "        }    #T_b8405fe0_c0e2_11ea_8c88_839d2edf9097row5_col3 {\n",
       "            background-color:  #cdf2cd;\n",
       "            color:  #000000;\n",
       "        }    #T_b8405fe0_c0e2_11ea_8c88_839d2edf9097row5_col4 {\n",
       "            background-color:  #e5ffe5;\n",
       "            color:  #000000;\n",
       "        }    #T_b8405fe0_c0e2_11ea_8c88_839d2edf9097row5_col5 {\n",
       "            background-color:  #008000;\n",
       "            color:  #f1f1f1;\n",
       "        }</style><table id=\"T_b8405fe0_c0e2_11ea_8c88_839d2edf9097\" ><thead>    <tr>        <th class=\"blank level0\" ></th>        <th class=\"col_heading level0 col0\" >siemens15</th>        <th class=\"col_heading level0 col1\" >siemens3</th>        <th class=\"col_heading level0 col2\" >ge15</th>        <th class=\"col_heading level0 col3\" >ge3</th>        <th class=\"col_heading level0 col4\" >philips15</th>        <th class=\"col_heading level0 col5\" >philips3</th>    </tr></thead><tbody>\n",
       "                <tr>\n",
       "                        <th id=\"T_b8405fe0_c0e2_11ea_8c88_839d2edf9097level0_row0\" class=\"row_heading level0 row0\" >siemens15_sDice_1_unet2d</th>\n",
       "                        <td id=\"T_b8405fe0_c0e2_11ea_8c88_839d2edf9097row0_col0\" class=\"data row0 col0\" >0.848044</td>\n",
       "                        <td id=\"T_b8405fe0_c0e2_11ea_8c88_839d2edf9097row0_col1\" class=\"data row0 col1\" >0.522768</td>\n",
       "                        <td id=\"T_b8405fe0_c0e2_11ea_8c88_839d2edf9097row0_col2\" class=\"data row0 col2\" >0.687346</td>\n",
       "                        <td id=\"T_b8405fe0_c0e2_11ea_8c88_839d2edf9097row0_col3\" class=\"data row0 col3\" >0.555972</td>\n",
       "                        <td id=\"T_b8405fe0_c0e2_11ea_8c88_839d2edf9097row0_col4\" class=\"data row0 col4\" >0.693467</td>\n",
       "                        <td id=\"T_b8405fe0_c0e2_11ea_8c88_839d2edf9097row0_col5\" class=\"data row0 col5\" >0.720897</td>\n",
       "            </tr>\n",
       "            <tr>\n",
       "                        <th id=\"T_b8405fe0_c0e2_11ea_8c88_839d2edf9097level0_row1\" class=\"row_heading level0 row1\" >siemens3_sDice_1_unet2d</th>\n",
       "                        <td id=\"T_b8405fe0_c0e2_11ea_8c88_839d2edf9097row1_col0\" class=\"data row1 col0\" >0.684586</td>\n",
       "                        <td id=\"T_b8405fe0_c0e2_11ea_8c88_839d2edf9097row1_col1\" class=\"data row1 col1\" >0.880677</td>\n",
       "                        <td id=\"T_b8405fe0_c0e2_11ea_8c88_839d2edf9097row1_col2\" class=\"data row1 col2\" >0.693536</td>\n",
       "                        <td id=\"T_b8405fe0_c0e2_11ea_8c88_839d2edf9097row1_col3\" class=\"data row1 col3\" >0.612247</td>\n",
       "                        <td id=\"T_b8405fe0_c0e2_11ea_8c88_839d2edf9097row1_col4\" class=\"data row1 col4\" >0.546542</td>\n",
       "                        <td id=\"T_b8405fe0_c0e2_11ea_8c88_839d2edf9097row1_col5\" class=\"data row1 col5\" >0.649652</td>\n",
       "            </tr>\n",
       "            <tr>\n",
       "                        <th id=\"T_b8405fe0_c0e2_11ea_8c88_839d2edf9097level0_row2\" class=\"row_heading level0 row2\" >ge15_sDice_1_unet2d</th>\n",
       "                        <td id=\"T_b8405fe0_c0e2_11ea_8c88_839d2edf9097row2_col0\" class=\"data row2 col0\" >0.397575</td>\n",
       "                        <td id=\"T_b8405fe0_c0e2_11ea_8c88_839d2edf9097row2_col1\" class=\"data row2 col1\" >0.100219</td>\n",
       "                        <td id=\"T_b8405fe0_c0e2_11ea_8c88_839d2edf9097row2_col2\" class=\"data row2 col2\" >0.866190</td>\n",
       "                        <td id=\"T_b8405fe0_c0e2_11ea_8c88_839d2edf9097row2_col3\" class=\"data row2 col3\" >0.279815</td>\n",
       "                        <td id=\"T_b8405fe0_c0e2_11ea_8c88_839d2edf9097row2_col4\" class=\"data row2 col4\" >0.539676</td>\n",
       "                        <td id=\"T_b8405fe0_c0e2_11ea_8c88_839d2edf9097row2_col5\" class=\"data row2 col5\" >0.517639</td>\n",
       "            </tr>\n",
       "            <tr>\n",
       "                        <th id=\"T_b8405fe0_c0e2_11ea_8c88_839d2edf9097level0_row3\" class=\"row_heading level0 row3\" >ge3_sDice_1_unet2d</th>\n",
       "                        <td id=\"T_b8405fe0_c0e2_11ea_8c88_839d2edf9097row3_col0\" class=\"data row3 col0\" >0.789657</td>\n",
       "                        <td id=\"T_b8405fe0_c0e2_11ea_8c88_839d2edf9097row3_col1\" class=\"data row3 col1\" >0.645836</td>\n",
       "                        <td id=\"T_b8405fe0_c0e2_11ea_8c88_839d2edf9097row3_col2\" class=\"data row3 col2\" >0.627640</td>\n",
       "                        <td id=\"T_b8405fe0_c0e2_11ea_8c88_839d2edf9097row3_col3\" class=\"data row3 col3\" >0.887094</td>\n",
       "                        <td id=\"T_b8405fe0_c0e2_11ea_8c88_839d2edf9097row3_col4\" class=\"data row3 col4\" >0.662978</td>\n",
       "                        <td id=\"T_b8405fe0_c0e2_11ea_8c88_839d2edf9097row3_col5\" class=\"data row3 col5\" >0.681703</td>\n",
       "            </tr>\n",
       "            <tr>\n",
       "                        <th id=\"T_b8405fe0_c0e2_11ea_8c88_839d2edf9097level0_row4\" class=\"row_heading level0 row4\" >philips15_sDice_1_unet2d</th>\n",
       "                        <td id=\"T_b8405fe0_c0e2_11ea_8c88_839d2edf9097row4_col0\" class=\"data row4 col0\" >0.649478</td>\n",
       "                        <td id=\"T_b8405fe0_c0e2_11ea_8c88_839d2edf9097row4_col1\" class=\"data row4 col1\" >0.278191</td>\n",
       "                        <td id=\"T_b8405fe0_c0e2_11ea_8c88_839d2edf9097row4_col2\" class=\"data row4 col2\" >0.856386</td>\n",
       "                        <td id=\"T_b8405fe0_c0e2_11ea_8c88_839d2edf9097row4_col3\" class=\"data row4 col3\" >0.427717</td>\n",
       "                        <td id=\"T_b8405fe0_c0e2_11ea_8c88_839d2edf9097row4_col4\" class=\"data row4 col4\" >0.894273</td>\n",
       "                        <td id=\"T_b8405fe0_c0e2_11ea_8c88_839d2edf9097row4_col5\" class=\"data row4 col5\" >0.511917</td>\n",
       "            </tr>\n",
       "            <tr>\n",
       "                        <th id=\"T_b8405fe0_c0e2_11ea_8c88_839d2edf9097level0_row5\" class=\"row_heading level0 row5\" >philips3_sDice_1_unet2d</th>\n",
       "                        <td id=\"T_b8405fe0_c0e2_11ea_8c88_839d2edf9097row5_col0\" class=\"data row5 col0\" >0.512421</td>\n",
       "                        <td id=\"T_b8405fe0_c0e2_11ea_8c88_839d2edf9097row5_col1\" class=\"data row5 col1\" >0.351745</td>\n",
       "                        <td id=\"T_b8405fe0_c0e2_11ea_8c88_839d2edf9097row5_col2\" class=\"data row5 col2\" >0.675594</td>\n",
       "                        <td id=\"T_b8405fe0_c0e2_11ea_8c88_839d2edf9097row5_col3\" class=\"data row5 col3\" >0.345022</td>\n",
       "                        <td id=\"T_b8405fe0_c0e2_11ea_8c88_839d2edf9097row5_col4\" class=\"data row5 col4\" >0.410027</td>\n",
       "                        <td id=\"T_b8405fe0_c0e2_11ea_8c88_839d2edf9097row5_col5\" class=\"data row5 col5\" >0.863623</td>\n",
       "            </tr>\n",
       "    </tbody></table>"
      ],
      "text/plain": [
       "<pandas.io.formats.style.Styler at 0x1554c1133e50>"
      ]
     },
     "execution_count": 77,
     "metadata": {},
     "output_type": "execute_result"
    }
   ],
   "source": [
    "import seaborn as sns\n",
    "cm = sns.light_palette(\"green\", as_cmap=True)\n",
    "\n",
    "sdice1 = getResults('sdice', 'unet2d', 1, withErr=False)\n",
    "sdice1.style.background_gradient(cmap=cm)"
   ]
  },
  {
   "cell_type": "code",
   "execution_count": 81,
   "metadata": {},
   "outputs": [
    {
     "data": {
      "text/plain": [
       "array([], dtype=float64)"
      ]
     },
     "execution_count": 81,
     "metadata": {},
     "output_type": "execute_result"
    }
   ],
   "source": [
    "np.array(diag)"
   ]
  },
  {
   "cell_type": "markdown",
   "metadata": {},
   "source": [
    "# Baseline one2all"
   ]
  },
  {
   "cell_type": "code",
   "execution_count": 50,
   "metadata": {},
   "outputs": [],
   "source": [
    "one2allDomains = ['siemens15', 'siemens3', 'ge15', 'ge3', 'philips15', 'philips3']\n",
    "def getResults_one2all(metric, net='unet3d', tolerance=1, withErr=True, retDict=False):\n",
    "    \n",
    "    if net=='unet3d':\n",
    "        baseAddr = '/gpfs/gpfs0/b.shirokikh/experiments/da/paper_3d/unet3d_one2all/'\n",
    "    elif net=='unet2d':\n",
    "        baseAddr = '/gpfs/gpfs0/b.shirokikh/experiments/da/paper_2d/unet2d_one2all/'\n",
    "    \n",
    "    results = {}\n",
    "    results_std = {}\n",
    "\n",
    "    for exp_n, n in enumerate(one2allDomains):\n",
    "\n",
    "        averageMetric4dom = {}\n",
    "        stdMetric4dom = {}\n",
    "\n",
    "        for name in one2allDomains:\n",
    "            averageMetric4dom[name] = []\n",
    "            #stdMetric4dom[name] = []\n",
    "\n",
    "        if metric=='dice':\n",
    "            diceAddr = baseAddr + 'experiment_%d/test_metrics/dice_score.json'%exp_n\n",
    "        else:\n",
    "            diceAddr = baseAddr + 'experiment_%d/test_metrics/sdice_score.json'%exp_n\n",
    "        dices = js_r(diceAddr)\n",
    "        for scan in dices.keys():\n",
    "            domain = domainOfScan[scan]\n",
    "            averageMetric4dom[domain].append(dices[scan])\n",
    "\n",
    "        for domain in one2allDomains:        \n",
    "            stdMetric4dom[domain] = np.array(averageMetric4dom[domain]).std()#.round(2)\n",
    "            averageMetric4dom[domain] = np.array(averageMetric4dom[domain]).mean()#.round(2)\n",
    "\n",
    "        results[n] = averageMetric4dom\n",
    "        results_std[n] = stdMetric4dom \n",
    "\n",
    "    val = pd.DataFrame.from_dict(results)\n",
    "    err = pd.DataFrame.from_dict(results_std)\n",
    "\n",
    "    if withErr:\n",
    "        for n1 in one2allDomains:\n",
    "            for n2 in one2allDomains:\n",
    "                val[n1][n2] = str(val[n1][n2]) + '+-' + str(err[n1][n2])\n",
    "    \n",
    "    if not retDict:\n",
    "        if metric=='dice':\n",
    "            return val.rename(index={name: name + '_dice_' + net for name in one2allDomains})         \n",
    "        else:\n",
    "            return val.rename(index={name: name + '_sDice_' + str(tolerance) + '_' + net for name in one2allDomains})\n",
    "        \n",
    "    else:\n",
    "        return (results, results_std)"
   ]
  },
  {
   "cell_type": "code",
   "execution_count": 51,
   "metadata": {},
   "outputs": [
    {
     "name": "stderr",
     "output_type": "stream",
     "text": [
      "/trinity/home/i.zakazov/miniconda3/lib/python3.7/site-packages/numpy/core/_methods.py:217: RuntimeWarning: Degrees of freedom <= 0 for slice\n",
      "  keepdims=keepdims)\n",
      "/trinity/home/i.zakazov/miniconda3/lib/python3.7/site-packages/numpy/core/_methods.py:186: RuntimeWarning: invalid value encountered in true_divide\n",
      "  arrmean, rcount, out=arrmean, casting='unsafe', subok=False)\n",
      "/trinity/home/i.zakazov/miniconda3/lib/python3.7/site-packages/numpy/core/_methods.py:209: RuntimeWarning: invalid value encountered in double_scalars\n",
      "  ret = ret.dtype.type(ret / rcount)\n",
      "/trinity/home/i.zakazov/miniconda3/lib/python3.7/site-packages/ipykernel_launcher.py:32: RuntimeWarning: Mean of empty slice.\n",
      "/trinity/home/i.zakazov/miniconda3/lib/python3.7/site-packages/numpy/core/_methods.py:161: RuntimeWarning: invalid value encountered in double_scalars\n",
      "  ret = ret.dtype.type(ret / rcount)\n"
     ]
    },
    {
     "data": {
      "text/html": [
       "<style  type=\"text/css\" >\n",
       "    #T_6c9e5952_c038_11ea_8c88_839d2edf9097row0_col0 {\n",
       "            background-color:  #000000;\n",
       "            color:  #f1f1f1;\n",
       "        }    #T_6c9e5952_c038_11ea_8c88_839d2edf9097row0_col1 {\n",
       "            background-color:  #329c32;\n",
       "            color:  #000000;\n",
       "        }    #T_6c9e5952_c038_11ea_8c88_839d2edf9097row0_col2 {\n",
       "            background-color:  #a7dda7;\n",
       "            color:  #000000;\n",
       "        }    #T_6c9e5952_c038_11ea_8c88_839d2edf9097row0_col3 {\n",
       "            background-color:  #41a441;\n",
       "            color:  #000000;\n",
       "        }    #T_6c9e5952_c038_11ea_8c88_839d2edf9097row0_col4 {\n",
       "            background-color:  #008000;\n",
       "            color:  #f1f1f1;\n",
       "        }    #T_6c9e5952_c038_11ea_8c88_839d2edf9097row0_col5 {\n",
       "            background-color:  #008000;\n",
       "            color:  #f1f1f1;\n",
       "        }    #T_6c9e5952_c038_11ea_8c88_839d2edf9097row1_col0 {\n",
       "            background-color:  #2c982c;\n",
       "            color:  #000000;\n",
       "        }    #T_6c9e5952_c038_11ea_8c88_839d2edf9097row1_col1 {\n",
       "            background-color:  #000000;\n",
       "            color:  #f1f1f1;\n",
       "        }    #T_6c9e5952_c038_11ea_8c88_839d2edf9097row1_col2 {\n",
       "            background-color:  #bde9bd;\n",
       "            color:  #000000;\n",
       "        }    #T_6c9e5952_c038_11ea_8c88_839d2edf9097row1_col3 {\n",
       "            background-color:  #008000;\n",
       "            color:  #f1f1f1;\n",
       "        }    #T_6c9e5952_c038_11ea_8c88_839d2edf9097row1_col4 {\n",
       "            background-color:  #46a746;\n",
       "            color:  #000000;\n",
       "        }    #T_6c9e5952_c038_11ea_8c88_839d2edf9097row1_col5 {\n",
       "            background-color:  #289628;\n",
       "            color:  #000000;\n",
       "        }    #T_6c9e5952_c038_11ea_8c88_839d2edf9097row2_col0 {\n",
       "            background-color:  #e5ffe5;\n",
       "            color:  #000000;\n",
       "        }    #T_6c9e5952_c038_11ea_8c88_839d2edf9097row2_col1 {\n",
       "            background-color:  #e5ffe5;\n",
       "            color:  #000000;\n",
       "        }    #T_6c9e5952_c038_11ea_8c88_839d2edf9097row2_col2 {\n",
       "            background-color:  #000000;\n",
       "            color:  #f1f1f1;\n",
       "        }    #T_6c9e5952_c038_11ea_8c88_839d2edf9097row2_col3 {\n",
       "            background-color:  #e5ffe5;\n",
       "            color:  #000000;\n",
       "        }    #T_6c9e5952_c038_11ea_8c88_839d2edf9097row2_col4 {\n",
       "            background-color:  #93d193;\n",
       "            color:  #000000;\n",
       "        }    #T_6c9e5952_c038_11ea_8c88_839d2edf9097row2_col5 {\n",
       "            background-color:  #d3f5d3;\n",
       "            color:  #000000;\n",
       "        }    #T_6c9e5952_c038_11ea_8c88_839d2edf9097row3_col0 {\n",
       "            background-color:  #008000;\n",
       "            color:  #f1f1f1;\n",
       "        }    #T_6c9e5952_c038_11ea_8c88_839d2edf9097row3_col1 {\n",
       "            background-color:  #008000;\n",
       "            color:  #f1f1f1;\n",
       "        }    #T_6c9e5952_c038_11ea_8c88_839d2edf9097row3_col2 {\n",
       "            background-color:  #e5ffe5;\n",
       "            color:  #000000;\n",
       "        }    #T_6c9e5952_c038_11ea_8c88_839d2edf9097row3_col3 {\n",
       "            background-color:  #000000;\n",
       "            color:  #f1f1f1;\n",
       "        }    #T_6c9e5952_c038_11ea_8c88_839d2edf9097row3_col4 {\n",
       "            background-color:  #209220;\n",
       "            color:  #000000;\n",
       "        }    #T_6c9e5952_c038_11ea_8c88_839d2edf9097row3_col5 {\n",
       "            background-color:  #269526;\n",
       "            color:  #000000;\n",
       "        }    #T_6c9e5952_c038_11ea_8c88_839d2edf9097row4_col0 {\n",
       "            background-color:  #5eb45e;\n",
       "            color:  #000000;\n",
       "        }    #T_6c9e5952_c038_11ea_8c88_839d2edf9097row4_col1 {\n",
       "            background-color:  #a4dba4;\n",
       "            color:  #000000;\n",
       "        }    #T_6c9e5952_c038_11ea_8c88_839d2edf9097row4_col2 {\n",
       "            background-color:  #008000;\n",
       "            color:  #f1f1f1;\n",
       "        }    #T_6c9e5952_c038_11ea_8c88_839d2edf9097row4_col3 {\n",
       "            background-color:  #95d395;\n",
       "            color:  #000000;\n",
       "        }    #T_6c9e5952_c038_11ea_8c88_839d2edf9097row4_col4 {\n",
       "            background-color:  #000000;\n",
       "            color:  #f1f1f1;\n",
       "        }    #T_6c9e5952_c038_11ea_8c88_839d2edf9097row4_col5 {\n",
       "            background-color:  #e5ffe5;\n",
       "            color:  #000000;\n",
       "        }    #T_6c9e5952_c038_11ea_8c88_839d2edf9097row5_col0 {\n",
       "            background-color:  #90d090;\n",
       "            color:  #000000;\n",
       "        }    #T_6c9e5952_c038_11ea_8c88_839d2edf9097row5_col1 {\n",
       "            background-color:  #7ac37a;\n",
       "            color:  #000000;\n",
       "        }    #T_6c9e5952_c038_11ea_8c88_839d2edf9097row5_col2 {\n",
       "            background-color:  #bde9bd;\n",
       "            color:  #000000;\n",
       "        }    #T_6c9e5952_c038_11ea_8c88_839d2edf9097row5_col3 {\n",
       "            background-color:  #b7e5b7;\n",
       "            color:  #000000;\n",
       "        }    #T_6c9e5952_c038_11ea_8c88_839d2edf9097row5_col4 {\n",
       "            background-color:  #e5ffe5;\n",
       "            color:  #000000;\n",
       "        }    #T_6c9e5952_c038_11ea_8c88_839d2edf9097row5_col5 {\n",
       "            background-color:  #000000;\n",
       "            color:  #f1f1f1;\n",
       "        }</style><table id=\"T_6c9e5952_c038_11ea_8c88_839d2edf9097\" ><thead>    <tr>        <th class=\"blank level0\" ></th>        <th class=\"col_heading level0 col0\" >siemens15</th>        <th class=\"col_heading level0 col1\" >siemens3</th>        <th class=\"col_heading level0 col2\" >ge15</th>        <th class=\"col_heading level0 col3\" >ge3</th>        <th class=\"col_heading level0 col4\" >philips15</th>        <th class=\"col_heading level0 col5\" >philips3</th>    </tr></thead><tbody>\n",
       "                <tr>\n",
       "                        <th id=\"T_6c9e5952_c038_11ea_8c88_839d2edf9097level0_row0\" class=\"row_heading level0 row0\" >siemens15_sDice_1_unet2d</th>\n",
       "                        <td id=\"T_6c9e5952_c038_11ea_8c88_839d2edf9097row0_col0\" class=\"data row0 col0\" >nan</td>\n",
       "                        <td id=\"T_6c9e5952_c038_11ea_8c88_839d2edf9097row0_col1\" class=\"data row0 col1\" >0.508175</td>\n",
       "                        <td id=\"T_6c9e5952_c038_11ea_8c88_839d2edf9097row0_col2\" class=\"data row0 col2\" >0.717723</td>\n",
       "                        <td id=\"T_6c9e5952_c038_11ea_8c88_839d2edf9097row0_col3\" class=\"data row0 col3\" >0.563143</td>\n",
       "                        <td id=\"T_6c9e5952_c038_11ea_8c88_839d2edf9097row0_col4\" class=\"data row0 col4\" >0.705878</td>\n",
       "                        <td id=\"T_6c9e5952_c038_11ea_8c88_839d2edf9097row0_col5\" class=\"data row0 col5\" >0.706571</td>\n",
       "            </tr>\n",
       "            <tr>\n",
       "                        <th id=\"T_6c9e5952_c038_11ea_8c88_839d2edf9097level0_row1\" class=\"row_heading level0 row1\" >siemens3_sDice_1_unet2d</th>\n",
       "                        <td id=\"T_6c9e5952_c038_11ea_8c88_839d2edf9097row1_col0\" class=\"data row1 col0\" >0.719652</td>\n",
       "                        <td id=\"T_6c9e5952_c038_11ea_8c88_839d2edf9097row1_col1\" class=\"data row1 col1\" >nan</td>\n",
       "                        <td id=\"T_6c9e5952_c038_11ea_8c88_839d2edf9097row1_col2\" class=\"data row1 col2\" >0.698643</td>\n",
       "                        <td id=\"T_6c9e5952_c038_11ea_8c88_839d2edf9097row1_col3\" class=\"data row1 col3\" >0.667699</td>\n",
       "                        <td id=\"T_6c9e5952_c038_11ea_8c88_839d2edf9097row1_col4\" class=\"data row1 col4\" >0.633299</td>\n",
       "                        <td id=\"T_6c9e5952_c038_11ea_8c88_839d2edf9097row1_col5\" class=\"data row1 col5\" >0.663074</td>\n",
       "            </tr>\n",
       "            <tr>\n",
       "                        <th id=\"T_6c9e5952_c038_11ea_8c88_839d2edf9097level0_row2\" class=\"row_heading level0 row2\" >ge15_sDice_1_unet2d</th>\n",
       "                        <td id=\"T_6c9e5952_c038_11ea_8c88_839d2edf9097row2_col0\" class=\"data row2 col0\" >0.390694</td>\n",
       "                        <td id=\"T_6c9e5952_c038_11ea_8c88_839d2edf9097row2_col1\" class=\"data row2 col1\" >0.090998</td>\n",
       "                        <td id=\"T_6c9e5952_c038_11ea_8c88_839d2edf9097row2_col2\" class=\"data row2 col2\" >nan</td>\n",
       "                        <td id=\"T_6c9e5952_c038_11ea_8c88_839d2edf9097row2_col3\" class=\"data row2 col3\" >0.295944</td>\n",
       "                        <td id=\"T_6c9e5952_c038_11ea_8c88_839d2edf9097row2_col4\" class=\"data row2 col4\" >0.554587</td>\n",
       "                        <td id=\"T_6c9e5952_c038_11ea_8c88_839d2edf9097row2_col5\" class=\"data row2 col5\" >0.481358</td>\n",
       "            </tr>\n",
       "            <tr>\n",
       "                        <th id=\"T_6c9e5952_c038_11ea_8c88_839d2edf9097level0_row3\" class=\"row_heading level0 row3\" >ge3_sDice_1_unet2d</th>\n",
       "                        <td id=\"T_6c9e5952_c038_11ea_8c88_839d2edf9097row3_col0\" class=\"data row3 col0\" >0.798028</td>\n",
       "                        <td id=\"T_6c9e5952_c038_11ea_8c88_839d2edf9097row3_col1\" class=\"data row3 col1\" >0.627664</td>\n",
       "                        <td id=\"T_6c9e5952_c038_11ea_8c88_839d2edf9097row3_col2\" class=\"data row3 col2\" >0.662275</td>\n",
       "                        <td id=\"T_6c9e5952_c038_11ea_8c88_839d2edf9097row3_col3\" class=\"data row3 col3\" >nan</td>\n",
       "                        <td id=\"T_6c9e5952_c038_11ea_8c88_839d2edf9097row3_col4\" class=\"data row3 col4\" >0.672087</td>\n",
       "                        <td id=\"T_6c9e5952_c038_11ea_8c88_839d2edf9097row3_col5\" class=\"data row3 col5\" >0.665904</td>\n",
       "            </tr>\n",
       "            <tr>\n",
       "                        <th id=\"T_6c9e5952_c038_11ea_8c88_839d2edf9097level0_row4\" class=\"row_heading level0 row4\" >philips15_sDice_1_unet2d</th>\n",
       "                        <td id=\"T_6c9e5952_c038_11ea_8c88_839d2edf9097row4_col0\" class=\"data row4 col0\" >0.630458</td>\n",
       "                        <td id=\"T_6c9e5952_c038_11ea_8c88_839d2edf9097row4_col1\" class=\"data row4 col1\" >0.245912</td>\n",
       "                        <td id=\"T_6c9e5952_c038_11ea_8c88_839d2edf9097row4_col2\" class=\"data row4 col2\" >0.865359</td>\n",
       "                        <td id=\"T_6c9e5952_c038_11ea_8c88_839d2edf9097row4_col3\" class=\"data row4 col3\" >0.425965</td>\n",
       "                        <td id=\"T_6c9e5952_c038_11ea_8c88_839d2edf9097row4_col4\" class=\"data row4 col4\" >nan</td>\n",
       "                        <td id=\"T_6c9e5952_c038_11ea_8c88_839d2edf9097row4_col5\" class=\"data row4 col5\" >0.460751</td>\n",
       "            </tr>\n",
       "            <tr>\n",
       "                        <th id=\"T_6c9e5952_c038_11ea_8c88_839d2edf9097level0_row5\" class=\"row_heading level0 row5\" >philips3_sDice_1_unet2d</th>\n",
       "                        <td id=\"T_6c9e5952_c038_11ea_8c88_839d2edf9097row5_col0\" class=\"data row5 col0\" >0.542732</td>\n",
       "                        <td id=\"T_6c9e5952_c038_11ea_8c88_839d2edf9097row5_col1\" class=\"data row5 col1\" >0.343421</td>\n",
       "                        <td id=\"T_6c9e5952_c038_11ea_8c88_839d2edf9097row5_col2\" class=\"data row5 col2\" >0.698350</td>\n",
       "                        <td id=\"T_6c9e5952_c038_11ea_8c88_839d2edf9097row5_col3\" class=\"data row5 col3\" >0.371684</td>\n",
       "                        <td id=\"T_6c9e5952_c038_11ea_8c88_839d2edf9097row5_col4\" class=\"data row5 col4\" >0.468458</td>\n",
       "                        <td id=\"T_6c9e5952_c038_11ea_8c88_839d2edf9097row5_col5\" class=\"data row5 col5\" >nan</td>\n",
       "            </tr>\n",
       "    </tbody></table>"
      ],
      "text/plain": [
       "<pandas.io.formats.style.Styler at 0x1554c1aeba50>"
      ]
     },
     "execution_count": 51,
     "metadata": {},
     "output_type": "execute_result"
    }
   ],
   "source": [
    "sdice1_allDomain = getResults_one2all('sdice','unet2d', withErr=False)\n",
    "sdice1_allDomain.style.background_gradient(cmap=cm)"
   ]
  },
  {
   "cell_type": "markdown",
   "metadata": {},
   "source": [
    "# Experiments based on one2all"
   ]
  },
  {
   "cell_type": "code",
   "execution_count": 52,
   "metadata": {},
   "outputs": [
    {
     "data": {
      "text/plain": [
       "['siemens15', 'siemens3', 'ge15', 'ge3', 'philips15', 'philips3']"
      ]
     },
     "execution_count": 52,
     "metadata": {},
     "output_type": "execute_result"
    }
   ],
   "source": [
    "domainNamesNew"
   ]
  },
  {
   "cell_type": "code",
   "execution_count": 53,
   "metadata": {},
   "outputs": [],
   "source": [
    "i = 0\n",
    "pair2exps = {}\n",
    "for name1 in domainNamesNew:\n",
    "    for name2 in domainNamesNew:\n",
    "        if name1 != name2:\n",
    "            pair2exps[(name1, name2)] = [i]\n",
    "            i+=1"
   ]
  },
  {
   "cell_type": "code",
   "execution_count": 54,
   "metadata": {},
   "outputs": [],
   "source": [
    "def getResultsPaper(metric, addr, net, withErr=True, retDict = False):\n",
    "    \n",
    "    baseAddr = addr\n",
    "    \n",
    "    averageMetric4dom = {}\n",
    "    stdMetric4dom = {}\n",
    "\n",
    "    for name1 in domainNamesNew:\n",
    "        for name2 in domainNamesNew:\n",
    "            averageMetric4dom[(name1, name2)] = []\n",
    "            stdMetric4dom[(name1, name2)] = []\n",
    "\n",
    "    for n1 in domainNamesNew:\n",
    "        for n2 in domainNamesNew:\n",
    "            if n1 != n2:\n",
    "                for i in pair2exps[(n1,n2)]:\n",
    "                    \n",
    "                    if metric=='dice':\n",
    "                        diceAddr = baseAddr + '/experiment_%d/test_metrics/dice_score.json'%i\n",
    "                    else:\n",
    "                        diceAddr = baseAddr + '/experiment_%d/test_metrics/sdice_score.json'%i\n",
    "                    dices = js_r(diceAddr) #here 'dices' stand for an arbitary metric\n",
    "                    \n",
    "                    for scan in dices.keys():\n",
    "                        domain = domainOfScan[scan]\n",
    "                        if domain == n1: # base domain\n",
    "                            #print(averageMetric4dom[(n1, n1)])\n",
    "                            averageMetric4dom[(n1, n1)].append(dices[scan])\n",
    "                        elif domain == n2: #new domain\n",
    "                            averageMetric4dom[(n1, n2)].append(dices[scan])\n",
    "                    \n",
    "                stdMetric4dom[(n1, n2)] = np.array(averageMetric4dom[(n1, n2)]).std()\n",
    "                averageMetric4dom[(n1, n2)] = np.array(averageMetric4dom[(n1, n2)]).mean()\n",
    "     \n",
    "    for n1 in domainNamesNew: #changes in the base domain perfomance are collected here\n",
    "        stdMetric4dom[(n1, n1)] = np.array(averageMetric4dom[(n1, n1)]).std()\n",
    "        averageMetric4dom[(n1, n1)] = np.array(averageMetric4dom[(n1, n1)]).mean() \n",
    "        \n",
    "    res = {}\n",
    "    res_std = {}\n",
    "    for name1 in domainNamesNew:\n",
    "        res[name1] = {}\n",
    "        res_std[name1] = {}\n",
    "  \n",
    "        for name2 in domainNamesNew:\n",
    "            res[name1][name2] = averageMetric4dom[(name1,name2)]\n",
    "            res_std[name1][name2] = stdMetric4dom[(name1,name2)]\n",
    "\n",
    "    val = pd.DataFrame.from_dict(res)\n",
    "    err = pd.DataFrame.from_dict(res_std)\n",
    "\n",
    "#     return val, err\n",
    "\n",
    "#     if withErr:\n",
    "#         for n1 in domainNamesNew:\n",
    "#             for n2 in domainNamesNew:\n",
    "#                 val[n1][n2] = str(val[n1][n2]) + '+-' + str(err[n1][n2])\n",
    "    \n",
    "    if retDict == False:    \n",
    "        if metric=='dice':\n",
    "            return val.rename(index={name: name + '_dice' for name in domainNamesNew})         \n",
    "        else:\n",
    "            if net=='unet2d':\n",
    "                return val.rename(index={name: name + '_sDice_1_unet2d' for name in domainNamesNew})\n",
    "            else:\n",
    "                return val.rename(index={name: name + '_sDice_1_unet3d' for name in domainNamesNew})\n",
    "    else:\n",
    "        return (averageMetric4dom, stdMetric4dom)  "
   ]
  },
  {
   "cell_type": "markdown",
   "metadata": {},
   "source": [
    "### Partial Freezing (3D u-net)"
   ]
  },
  {
   "cell_type": "code",
   "execution_count": 55,
   "metadata": {},
   "outputs": [
    {
     "name": "stderr",
     "output_type": "stream",
     "text": [
      "/trinity/home/i.zakazov/miniconda3/lib/python3.7/site-packages/ipykernel_launcher.py:37: RuntimeWarning: Mean of empty slice.\n",
      "/trinity/home/i.zakazov/miniconda3/lib/python3.7/site-packages/ipykernel_launcher.py:32: RuntimeWarning: Mean of empty slice.\n"
     ]
    }
   ],
   "source": [
    "base = '/gpfs/gpfs0/i.zakazov/experiments/da/middleFreeze/'\n",
    "\n",
    "exp = ['unfreeze_down1',\n",
    " 'unfreeze_down2',\n",
    " 'unfreeze_down3',\n",
    " 'unfreeze_up1',\n",
    " 'unfreeze_up2',\n",
    " 'unfreeze_up3']\n",
    "\n",
    "resDict = {}\n",
    "for experiment in exp[:-1]: #exluding up3 which I did not test because of the intersection\n",
    "    path = base + experiment\n",
    "    resDict[experiment] = getResultsPaper('sdice', path, 'unet3d', withErr=True, retDict = True)\n",
    "    \n",
    "resWerr = {}\n",
    "resWerr['baseline'] = {}\n",
    "sdice1Dict = getResults_one2all('sdice', 'unet3d', 1, withErr=False, retDict=True)\n",
    "for n1 in domainNamesNew:\n",
    "    for n2 in domainNamesNew:\n",
    "        if n1 != n2:\n",
    "            name = n1 + '_' + n2\n",
    "            val = sdice1Dict[0][n1][n2].round(2)\n",
    "            err = sdice1Dict[1][n1][n2].round(2)\n",
    "            entry = str(val) + '+-' + str(err)\n",
    "            resWerr['baseline'][name] = entry\n",
    "            \n",
    "import math as m\n",
    "for experiment in exp[:-1]:\n",
    "    nameExp = experiment\n",
    "    resWerr[nameExp] = {}\n",
    "    for key in resDict[nameExp][0].keys():\n",
    "        name = key[0] + '_' + key[1]\n",
    "        val = resDict[nameExp][0][key].round(2)\n",
    "        err = resDict[nameExp][1][key].round(2)\n",
    "        if not m.isnan(val):\n",
    "            entry = str(val) + '+-' + str(err)\n",
    "            resWerr[nameExp][name] = entry\n",
    "                \n",
    "partFreeze = pd.DataFrame.from_dict(resWerr)"
   ]
  },
  {
   "cell_type": "markdown",
   "metadata": {},
   "source": [
    "### Main results (2D u-net)"
   ]
  },
  {
   "cell_type": "code",
   "execution_count": 56,
   "metadata": {},
   "outputs": [
    {
     "name": "stdout",
     "output_type": "stream",
     "text": [
      "no experiment: joint3\n",
      "no experiment: joint1_2\n",
      "no experiment: joint1_3\n",
      "no experiment: joint1_6\n",
      "no experiment: joint1_12\n",
      "no experiment: joint1_24\n",
      "no experiment: jointslice\n",
      "no experiment: posttrain1_3\n",
      "no experiment: posttrain1_6\n",
      "no experiment: posttrain1_12\n",
      "no experiment: unfreeze_first1_2\n",
      "no experiment: unfreeze_first1_3\n",
      "no experiment: unfreeze_first1_6\n",
      "no experiment: unfreeze_last1_2\n",
      "no experiment: unfreeze_last1_6\n"
     ]
    },
    {
     "name": "stderr",
     "output_type": "stream",
     "text": [
      "/trinity/home/i.zakazov/miniconda3/lib/python3.7/site-packages/ipykernel_launcher.py:37: RuntimeWarning: Mean of empty slice.\n",
      "/trinity/home/i.zakazov/miniconda3/lib/python3.7/site-packages/ipykernel_launcher.py:32: RuntimeWarning: Mean of empty slice.\n"
     ]
    }
   ],
   "source": [
    "roundN = 2\n",
    "\n",
    "base = '/gpfs/gpfs0/b.shirokikh/experiments/da/paper_final/'\n",
    "exp = ['joint', 'posttrain', 'unfreeze_first', 'unfreeze_last']\n",
    "data = ['3', '1', '1_2', '1_3', '1_6', '1_12', '1_24', 'slice']\n",
    "\n",
    "resDict = {}\n",
    "notAvalExps = []\n",
    "\n",
    "for experiment in exp:\n",
    "    for addScans in data: \n",
    "        name = experiment + addScans\n",
    "        path = base + addScans + '/' + experiment\n",
    "        # WE MUST CATCH EXCEPTION HERE (SOME EXPERIMENTS ARE NOT CARRIED OUT)\n",
    "        try:\n",
    "            resDict[name] = getResultsPaper('sdice', path, 'unet2d', withErr=True, retDict = True)\n",
    "        except FileNotFoundError:\n",
    "            notAvalExps.append(name)\n",
    "            print('no experiment:', name)\n",
    "\n",
    "resWerr = {} #the final sheet\n",
    "\n",
    "resWerr['baseline'] = {}\n",
    "sdice1Dict = getResults_one2all('sdice', 'unet2d', 1, withErr=False, retDict=True)\n",
    "for n1 in domainNamesNew:\n",
    "    for n2 in domainNamesNew:\n",
    "        if n1 != n2:\n",
    "            name = n1 + '_' + n2\n",
    "            val = sdice1Dict[0][n1][n2].round(roundN)\n",
    "            err = sdice1Dict[1][n1][n2].round(roundN)\n",
    "            entry = str(val) + '+-' + str(err)\n",
    "            resWerr['baseline'][name] = entry\n",
    "            \n",
    "for addScans in data: \n",
    "    for experiment in exp:\n",
    "        nameExp = experiment + addScans\n",
    "        if nameExp not in notAvalExps:\n",
    "            resWerr[nameExp] = {}\n",
    "            for key in resDict[nameExp][0].keys():\n",
    "                name = key[0] + '_' + key[1]\n",
    "                val = resDict[nameExp][0][key].round(roundN)\n",
    "                err = resDict[nameExp][1][key].round(roundN)\n",
    "                if not m.isnan(val):\n",
    "                    entry = str(val) + '+-' + str(err)\n",
    "                    resWerr[nameExp][name] = entry             "
   ]
  },
  {
   "cell_type": "code",
   "execution_count": 57,
   "metadata": {},
   "outputs": [],
   "source": [
    "ultimate2d = pd.DataFrame.from_dict(resWerr)"
   ]
  },
  {
   "cell_type": "markdown",
   "metadata": {},
   "source": [
    "# Analysis of experiments based on one2all"
   ]
  },
  {
   "cell_type": "code",
   "execution_count": 58,
   "metadata": {},
   "outputs": [],
   "source": [
    "def stripOfErr(a):\n",
    "    if type(a) == np.ndarray:\n",
    "        b = []\n",
    "        for el in a:\n",
    "            b.append(float(el.split('+')[0]))\n",
    "        return np.array(b)\n",
    "    elif type(a) == str:\n",
    "        return float(a.split('+')[0])\n",
    "    \n",
    "def highlight_max(x):\n",
    "    return ['background-color: yellow' if stripOfErr(v)==max(stripOfErr(x.values)) else '' for v in x]"
   ]
  },
  {
   "cell_type": "code",
   "execution_count": 59,
   "metadata": {},
   "outputs": [
    {
     "name": "stderr",
     "output_type": "stream",
     "text": [
      "/trinity/home/i.zakazov/miniconda3/lib/python3.7/site-packages/ipykernel_launcher.py:44: SettingWithCopyWarning: \n",
      "A value is trying to be set on a copy of a slice from a DataFrame\n",
      "\n",
      "See the caveats in the documentation: https://pandas.pydata.org/pandas-docs/stable/user_guide/indexing.html#returning-a-view-versus-a-copy\n",
      "/trinity/home/i.zakazov/miniconda3/lib/python3.7/site-packages/pandas/core/indexing.py:671: SettingWithCopyWarning: \n",
      "A value is trying to be set on a copy of a slice from a DataFrame\n",
      "\n",
      "See the caveats in the documentation: https://pandas.pydata.org/pandas-docs/stable/user_guide/indexing.html#returning-a-view-versus-a-copy\n",
      "  self._setitem_with_indexer(indexer, value)\n"
     ]
    }
   ],
   "source": [
    "sdice1 = getResults('sdice', 'unet2d', 1, withErr=True)\n",
    "\n",
    "baselineUp = {}\n",
    "for domain in domainNamesNew:\n",
    "    baselineUp[domain] = sdice1.to_dict()[domain][domain+'_sDice_1_unet2d']\n",
    "    \n",
    "baselineUpColumn = []\n",
    "for domain in domainNamesNew:\n",
    "    for i in range(5):\n",
    "        baselineUpColumn.append(baselineUp[domain])\n",
    "        \n",
    "ultimate2d['baselineUp'] = baselineUpColumn\n",
    "\n",
    "ultimate2d = ultimate2d[[ultimate2d.columns.to_list()[-1], *ultimate2d.columns.to_list()[:-1]]]"
   ]
  },
  {
   "cell_type": "code",
   "execution_count": 60,
   "metadata": {},
   "outputs": [],
   "source": [
    "ultimate2dCopy = ultimate2d.copy()\n",
    "ultimate2dCopy = ultimate2dCopy.applymap(stripOfErr)\n",
    "\n",
    "exps = list(ultimate2dCopy)\n",
    "exps.remove('baseline')\n",
    "\n",
    "for exp in exps:\n",
    "    ultimate2dCopy[exp+'-baseline'] = ultimate2dCopy[exp] - ultimate2dCopy['baseline']\n",
    "    \n",
    "for exp in exps:\n",
    "    ultimate2dCopy[exp+'Rel'] = ultimate2dCopy[exp+'-baseline']/ultimate2dCopy['baselineUp'+'-baseline']\n",
    "    \n",
    "for col in list(ultimate2dCopy):\n",
    "    if col[-3:]!='Rel':\n",
    "        ultimate2dCopy = ultimate2dCopy.drop(columns=[col,])\n",
    "        \n",
    "ultimate2dCopy = ultimate2dCopy.drop(['ge15_philips15',])"
   ]
  },
  {
   "cell_type": "code",
   "execution_count": 61,
   "metadata": {},
   "outputs": [
    {
     "data": {
      "image/png": "[encoded data removed]",
      "text/plain": [
       "<Figure size 720x360 with 1 Axes>"
      ]
     },
     "metadata": {
      "needs_background": "light"
     },
     "output_type": "display_data"
    }
   ],
   "source": [
    "import matplotlib.pyplot as plt\n",
    "plt.figure(figsize=(10,5))\n",
    "plt.hist((ultimate2dCopy['unfreeze_last1_24Rel'], ultimate2dCopy['posttrain1_24Rel'],\\\n",
    "          ultimate2dCopy['unfreeze_first1_24Rel']),label=('unfreeze last', 'posttrain', 'unfreeze first'))\n",
    "plt.title('Share of the transfer gap being closed; 1/24 of slices', fontsize=15)\n",
    "plt.xlabel('(method-naiveTransfer)/(originalPerfomance-naiveTransfer)', fontsize=12)\n",
    "plt.legend()\n",
    "plt.show()"
   ]
  },
  {
   "cell_type": "code",
   "execution_count": 67,
   "metadata": {},
   "outputs": [],
   "source": [
    "def x(interval):\n",
    "    return((250 // interval) * interval)"
   ]
  },
  {
   "cell_type": "code",
   "execution_count": 68,
   "metadata": {},
   "outputs": [
    {
     "data": {
      "text/plain": [
       "250"
      ]
     },
     "execution_count": 68,
     "metadata": {},
     "output_type": "execute_result"
    }
   ],
   "source": [
    "x(2)"
   ]
  },
  {
   "cell_type": "code",
   "execution_count": 69,
   "metadata": {},
   "outputs": [
    {
     "data": {
      "text/plain": [
       "125"
      ]
     },
     "execution_count": 69,
     "metadata": {},
     "output_type": "execute_result"
    }
   ],
   "source": [
    "250//2"
   ]
  },
  {
   "cell_type": "code",
   "execution_count": 70,
   "metadata": {},
   "outputs": [],
   "source": [
    "a=2"
   ]
  },
  {
   "cell_type": "code",
   "execution_count": null,
   "metadata": {},
   "outputs": [],
   "source": []
  }
 ],
 "metadata": {
  "kernelspec": {
   "display_name": "Python 3",
   "language": "python",
   "name": "python3"
  },
  "language_info": {
   "codemirror_mode": {
    "name": "ipython",
    "version": 3
   },
   "file_extension": ".py",
   "mimetype": "text/x-python",
   "name": "python",
   "nbconvert_exporter": "python",
   "pygments_lexer": "ipython3",
   "version": "3.7.6"
  }
 },
 "nbformat": 4,
 "nbformat_minor": 4
}
