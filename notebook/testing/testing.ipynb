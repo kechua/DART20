{
 "cells": [
  {
   "cell_type": "code",
   "execution_count": 30,
   "metadata": {},
   "outputs": [
    {
     "data": {
      "text/plain": [
       "0.9983417940107262"
      ]
     },
     "execution_count": 30,
     "metadata": {},
     "output_type": "execute_result"
    }
   ],
   "source": [
    "#testing surface distance\n",
    "import surface_distance.metrics as surf_dc\n",
    "import numpy as np\n",
    "\n",
    "a = np.random.rand(4,4,4)>0.5\n",
    "b = np.random.rand(4,4,4)>0.5\n",
    "\n",
    "spacing = (1,1,1)\n",
    "surface_distances = surf_dc.compute_surface_distances(a, b, spacing)\n",
    "surf_dc.compute_surface_dice_at_tolerance(surface_distances, 1) #the second argument is tolerance"
   ]
  },
  {
   "cell_type": "code",
   "execution_count": 31,
   "metadata": {},
   "outputs": [
    {
     "data": {
      "text/plain": [
       "0.9983417940107262"
      ]
     },
     "execution_count": 31,
     "metadata": {},
     "output_type": "execute_result"
    }
   ],
   "source": [
    "surface_distances = surf_dc.compute_surface_distances(b, a, spacing)\n",
    "surf_dc.compute_surface_dice_at_tolerance(surface_distances, 1) #the second argument is tolerance"
   ]
  },
  {
   "cell_type": "code",
   "execution_count": 33,
   "metadata": {},
   "outputs": [],
   "source": [
    "import surface_distance.metrics as surf_dc"
   ]
  },
  {
   "cell_type": "code",
   "execution_count": null,
   "metadata": {},
   "outputs": [],
   "source": []
  }
 ],
 "metadata": {
  "kernelspec": {
   "display_name": "Python 3",
   "language": "python",
   "name": "python3"
  },
  "language_info": {
   "codemirror_mode": {
    "name": "ipython",
    "version": 3
   },
   "file_extension": ".py",
   "mimetype": "text/x-python",
   "name": "python",
   "nbconvert_exporter": "python",
   "pygments_lexer": "ipython3",
   "version": "3.6.8"
  }
 },
 "nbformat": 4,
 "nbformat_minor": 4
}
