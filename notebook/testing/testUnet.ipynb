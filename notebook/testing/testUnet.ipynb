{
 "cells": [
  {
   "cell_type": "code",
   "execution_count": null,
   "metadata": {},
   "outputs": [],
   "source": [
    "# original repository\n",
    "# https://github.com/fepegar/unet\n",
    "\n",
    "# the code was taken from repository/tests"
   ]
  },
  {
   "cell_type": "code",
   "execution_count": 1,
   "metadata": {},
   "outputs": [],
   "source": [
    "from typing import Optional"
   ]
  },
  {
   "cell_type": "code",
   "execution_count": 7,
   "metadata": {},
   "outputs": [],
   "source": [
    "from Desktop.unet.unet import UNet2D, UNet3D\n",
    "\n",
    "import sys\n",
    "from pathlib import Path\n",
    "\n",
    "import torch"
   ]
  },
  {
   "cell_type": "code",
   "execution_count": 8,
   "metadata": {},
   "outputs": [],
   "source": [
    "residual = False\n",
    "\n",
    "device = torch.device(\"cuda\" if torch.cuda.is_available() else \"cpu\")"
   ]
  },
  {
   "cell_type": "code",
   "execution_count": 11,
   "metadata": {},
   "outputs": [],
   "source": [
    "def test_unet_3d():\n",
    "    model = UNet3D(\n",
    "        normalization='batch',\n",
    "        preactivation=True,\n",
    "        residual=False,\n",
    "    ).to(device).eval()\n",
    "    shape = 1, 1, 132, 132, 116\n",
    "    result = 1, 2, 44, 44, 28\n",
    "    y = run(model, shape)\n",
    "    assert tuple(y.shape) == result\n",
    "    \n",
    "def run(model, shape):\n",
    "    x_sample = torch.rand(*shape, device=device)\n",
    "    with torch.no_grad():\n",
    "        y = model(x_sample)\n",
    "    return y"
   ]
  }
 ],
 "metadata": {
  "kernelspec": {
   "display_name": "Python 3",
   "language": "python",
   "name": "python3"
  },
  "language_info": {
   "codemirror_mode": {
    "name": "ipython",
    "version": 3.0
   },
   "file_extension": ".py",
   "mimetype": "text/x-python",
   "name": "python",
   "nbconvert_exporter": "python",
   "pygments_lexer": "ipython3",
   "version": "3.6.8"
  }
 },
 "nbformat": 4,
 "nbformat_minor": 0
}